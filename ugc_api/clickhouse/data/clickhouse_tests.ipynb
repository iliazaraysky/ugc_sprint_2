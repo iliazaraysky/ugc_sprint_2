{
 "cells": [
  {
   "cell_type": "code",
   "execution_count": null,
   "id": "b38ece1a",
   "metadata": {},
   "outputs": [],
   "source": [
    "from clickhouse_driver import Client"
   ]
  },
  {
   "cell_type": "code",
   "execution_count": null,
   "id": "340202be",
   "metadata": {},
   "outputs": [],
   "source": [
    "client_1 = Client(host='clickhouse-node1')\n",
    "client_3 = Client(host='clickhouse-node3')"
   ]
  },
  {
   "cell_type": "code",
   "execution_count": null,
   "id": "c0894f52",
   "metadata": {},
   "outputs": [],
   "source": [
    "client_1.execute(\"CREATE DATABASE IF NOT EXISTS shard\")\n",
    "client_1.execute(\"CREATE DATABASE IF NOT EXISTS replica\")\n",
    "client_1.execute(\"CREATE TABLE IF NOT EXISTS shard.rating_kafka(film_id UUID, user_id UUID, rating Float32) ENGINE=Kafka('kafka:29092', 'rating', 'group-id', 'JSONEachRow')\")\n",
    "client_1.execute(\"CREATE TABLE IF NOT EXISTS shard.rating(film_id UUID, user_id UUID, rating Float32) Engine=ReplicatedMergeTree('/clickhouse/tables/{shard}/rating', 'rating_replica_1') ORDER BY rating\")\n",
    "client_1.execute(\"CREATE TABLE IF NOT EXISTS replica.rating(film_id UUID, user_id UUID, rating Float32) Engine=ReplicatedMergeTree('/clickhouse/tables/{shard}/rating', 'rating_replica_2') ORDER BY rating\")\n",
    "client_1.execute(\"CREATE TABLE IF NOT EXISTS default.rating(film_id UUID, user_id UUID, rating Float32) ENGINE = Distributed('company_cluster', '', rating, rand())\")"
   ]
  },
  {
   "cell_type": "markdown",
   "id": "26228cdf",
   "metadata": {},
   "source": [
    "## Подключаем поток материализованного представления для Node 1"
   ]
  },
  {
   "cell_type": "code",
   "execution_count": null,
   "id": "716199df",
   "metadata": {},
   "outputs": [],
   "source": [
    "client_1.execute(\"CREATE MATERIALIZED VIEW IF NOT EXISTS shard.mv_rating TO default.rating AS SELECT * FROM shard.rating_kafka\")"
   ]
  },
  {
   "cell_type": "markdown",
   "id": "3fdfa2ae",
   "metadata": {},
   "source": [
    "## Подключаем поток материализованного представления для Node 3"
   ]
  },
  {
   "cell_type": "code",
   "execution_count": null,
   "id": "b72803e5",
   "metadata": {},
   "outputs": [],
   "source": [
    "client_3.execute(\"CREATE DATABASE IF NOT EXISTS shard\")\n",
    "client_3.execute(\"CREATE DATABASE IF NOT EXISTS replica\")\n",
    "client_3.execute(\"CREATE TABLE IF NOT EXISTS shard.rating_kafka(film_id UUID, user_id UUID, rating Float32) ENGINE=Kafka('kafka:29092', 'rating', 'group-id', 'JSONEachRow')\")\n",
    "client_3.execute(\"CREATE TABLE IF NOT EXISTS shard.rating(film_id UUID, user_id UUID, rating Float32) Engine=ReplicatedMergeTree('/clickhouse/tables/{shard}/rating', 'rating_replica_1') ORDER BY rating\")\n",
    "client_3.execute(\"CREATE TABLE IF NOT EXISTS replica.rating(film_id UUID, user_id UUID, rating Float32) Engine=ReplicatedMergeTree('/clickhouse/tables/{shard}/rating', 'rating_replica_2') ORDER BY rating\")\n",
    "client_3.execute(\"CREATE TABLE IF NOT EXISTS default.rating(film_id UUID, user_id UUID, rating Float32) ENGINE = Distributed('company_cluster', '', rating, rand())\")"
   ]
  },
  {
   "cell_type": "code",
   "execution_count": null,
   "id": "602fb05d",
   "metadata": {},
   "outputs": [],
   "source": [
    "client_3.execute(\"CREATE MATERIALIZED VIEW IF NOT EXISTS shard.mv_rating TO default.rating AS SELECT * FROM shard.rating_kafka\")"
   ]
  },
  {
   "cell_type": "markdown",
   "id": "2540f829",
   "metadata": {},
   "source": [
    "## Проверяем данные в дистрибутивной таблице"
   ]
  },
  {
   "cell_type": "code",
   "execution_count": null,
   "id": "af3acc93",
   "metadata": {},
   "outputs": [],
   "source": [
    "client_1.execute(\"SELECT * FROM rating\")"
   ]
  },
  {
   "cell_type": "markdown",
   "id": "07c8d536",
   "metadata": {},
   "source": [
    "## Отправляем POST запрос по адресу:"
   ]
  },
  {
   "cell_type": "markdown",
   "id": "8ff02b4a",
   "metadata": {},
   "source": [
    "> 127.0.0.1:8000/api/v1/events/rating/rating_event"
   ]
  },
  {
   "cell_type": "markdown",
   "id": "94a78e29",
   "metadata": {},
   "source": [
    "## Тело запроса:"
   ]
  },
  {
   "cell_type": "markdown",
   "id": "004f8015",
   "metadata": {},
   "source": [
    "```\n",
    "{\n",
    "    \"user_id\": \"561b7be6-3494-42e4-93b0-2091343184e0\",\n",
    "    \"film_id\": \"1113f275-6b45-4137-b9a2-7793103d4b10\",\n",
    "    \"rating\": 4.2\n",
    "}\n",
    "```"
   ]
  },
  {
   "cell_type": "markdown",
   "id": "37ccd04a",
   "metadata": {},
   "source": [
    "## Снова проверяем данные в дистрибутивной таблице"
   ]
  },
  {
   "cell_type": "code",
   "execution_count": null,
   "id": "4b75af56",
   "metadata": {},
   "outputs": [],
   "source": [
    "client_1.execute(\"SELECT * FROM rating\")"
   ]
  },
  {
   "cell_type": "markdown",
   "id": "c42253fd",
   "metadata": {},
   "source": [
    "----"
   ]
  },
  {
   "cell_type": "markdown",
   "id": "a5640f4e",
   "metadata": {},
   "source": [
    "## Посылаем данные в Kafka (без API)"
   ]
  },
  {
   "cell_type": "code",
   "execution_count": null,
   "id": "39f953e6",
   "metadata": {},
   "outputs": [],
   "source": [
    "from kafka import KafkaProducer\n",
    "from time import sleep\n",
    "\n",
    "\n",
    "producer = KafkaProducer(bootstrap_servers=['kafka:29092'])\n",
    "\n",
    "producer.send(\n",
    "    topic='rating',\n",
    "    value=b'{\"film_id\":\"73ffe7e1-dffb-4cff-9c47-0c3fb409bccc\" , \"user_id\":\"19f7c3e9-de95-40ee-bb00-700b4cd9ca95\" , \"rating\":\"3.9\"}',\n",
    "    key=b'500271+tt0120338',\n",
    ")\n",
    "\n",
    "sleep(1)"
   ]
  },
  {
   "cell_type": "markdown",
   "id": "1850cdf6",
   "metadata": {},
   "source": [
    "## Повторная проверка данных в дистрибутивной таблице"
   ]
  },
  {
   "cell_type": "code",
   "execution_count": null,
   "id": "bdf01f89",
   "metadata": {},
   "outputs": [],
   "source": [
    "client_1.execute(\"SELECT * FROM rating\")"
   ]
  },
  {
   "cell_type": "code",
   "execution_count": null,
   "id": "64c2a338",
   "metadata": {},
   "outputs": [],
   "source": []
  }
 ],
 "metadata": {
  "kernelspec": {
   "display_name": "Python 3 (ipykernel)",
   "language": "python",
   "name": "python3"
  },
  "language_info": {
   "codemirror_mode": {
    "name": "ipython",
    "version": 3
   },
   "file_extension": ".py",
   "mimetype": "text/x-python",
   "name": "python",
   "nbconvert_exporter": "python",
   "pygments_lexer": "ipython3",
   "version": "3.9.13"
  }
 },
 "nbformat": 4,
 "nbformat_minor": 5
}
