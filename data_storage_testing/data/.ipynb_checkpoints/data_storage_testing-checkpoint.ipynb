{
 "cells": [
  {
   "cell_type": "markdown",
   "id": "7cb97bda",
   "metadata": {},
   "source": [
    "## Импортируем необходимые библиотеки"
   ]
  },
  {
   "cell_type": "code",
   "execution_count": 2,
   "id": "63ed4c37",
   "metadata": {},
   "outputs": [],
   "source": [
    "import random\n",
    "import pprint\n",
    "import time, datetime\n",
    "from pymongo import MongoClient\n",
    "from pymongo.database import Database\n",
    "from elasticsearch import Elasticsearch"
   ]
  },
  {
   "cell_type": "code",
   "execution_count": 3,
   "id": "010730c2",
   "metadata": {},
   "outputs": [],
   "source": [
    "config = {\n",
    "        'scheme': 'http',\n",
    "        'host': 'elasticsearch-storage-test',\n",
    "        'port': 9200\n",
    "}"
   ]
  },
  {
   "cell_type": "code",
   "execution_count": 4,
   "id": "a4913fb8",
   "metadata": {},
   "outputs": [],
   "source": [
    "mongo = MongoClient('mongo-storage-test', 27017)"
   ]
  },
  {
   "cell_type": "code",
   "execution_count": 5,
   "id": "fa3520bc",
   "metadata": {},
   "outputs": [],
   "source": [
    "db = mongo.test_database"
   ]
  },
  {
   "cell_type": "code",
   "execution_count": 6,
   "id": "396dd0f5",
   "metadata": {},
   "outputs": [],
   "source": [
    "posts = db.posts"
   ]
  },
  {
   "cell_type": "markdown",
   "id": "248632c9",
   "metadata": {},
   "source": [
    "## Вставка данных в mongo"
   ]
  },
  {
   "cell_type": "code",
   "execution_count": 7,
   "id": "87f9c66a",
   "metadata": {},
   "outputs": [
    {
     "name": "stdout",
     "output_type": "stream",
     "text": [
      "0:00:12.348724\n"
     ]
    }
   ],
   "source": [
    "start = datetime.datetime.now()\n",
    "for i in range(15000):\n",
    "    posts.insert_one({\"id\": i, \"author\": \"Mike\", \"text\": \"My first blog post!\", \"tags\": [\"mongodb\", \"python\", \"pymongo\"], \"date\": datetime.datetime.utcnow()})\n",
    "end = datetime.datetime.now()\n",
    "print(end-start)"
   ]
  },
  {
   "cell_type": "markdown",
   "id": "2319607d",
   "metadata": {},
   "source": [
    "## Поиск данных в mongo"
   ]
  },
  {
   "cell_type": "code",
   "execution_count": 8,
   "id": "f2ff7f0d",
   "metadata": {},
   "outputs": [
    {
     "name": "stdout",
     "output_type": "stream",
     "text": [
      "0:00:10.747061\n"
     ]
    }
   ],
   "source": [
    "start = datetime.datetime.now()\n",
    "for i in range(1500):\n",
    "    id_num = random.randint(0, 15000)\n",
    "    posts.find_one({\"id\": id_num})\n",
    "end = datetime.datetime.now()\n",
    "print(end-start)"
   ]
  },
  {
   "cell_type": "markdown",
   "id": "a60f4ff2",
   "metadata": {},
   "source": [
    "## Создание индекса в Elasticsearch"
   ]
  },
  {
   "cell_type": "code",
   "execution_count": 9,
   "id": "d8c7ca75",
   "metadata": {},
   "outputs": [
    {
     "data": {
      "text/plain": [
       "{'acknowledged': True, 'shards_acknowledged': True, 'index': 'test-index'}"
      ]
     },
     "execution_count": 9,
     "metadata": {},
     "output_type": "execute_result"
    }
   ],
   "source": [
    "es = Elasticsearch(hosts=[config], request_timeout=300)\n",
    "\n",
    "es.indices.create(index='test-index', ignore=400)"
   ]
  },
  {
   "cell_type": "markdown",
   "id": "c55a15dc",
   "metadata": {},
   "source": [
    "## Вставка данных в Elasticsearch"
   ]
  },
  {
   "cell_type": "code",
   "execution_count": 10,
   "id": "6eaa341e",
   "metadata": {
    "scrolled": true
   },
   "outputs": [
    {
     "name": "stdout",
     "output_type": "stream",
     "text": [
      "0:01:20.575246\n"
     ]
    }
   ],
   "source": [
    "start = datetime.datetime.now()\n",
    "for i in range(15000):\n",
    "    es.index(index='test-index',\n",
    "                        id=i,\n",
    "                        body={\"id\": i, \"author\": \"Mike\", \"text\": \"My first blog post!\", \"tags\": [\"mongodb\", \"python\", \"pymongo\"], \"date\": datetime.datetime.utcnow()})\n",
    "end = datetime.datetime.now()\n",
    "print(end-start)"
   ]
  },
  {
   "cell_type": "markdown",
   "id": "152ec2da",
   "metadata": {},
   "source": [
    "## Поиск в Elasticsearch"
   ]
  },
  {
   "cell_type": "code",
   "execution_count": 16,
   "id": "854b24c3",
   "metadata": {},
   "outputs": [
    {
     "name": "stdout",
     "output_type": "stream",
     "text": [
      "0:00:20.659066\n"
     ]
    }
   ],
   "source": [
    "start = datetime.datetime.now()\n",
    "for i in range(15000):\n",
    "    random_id = random.randint(1, 15000)\n",
    "    es.search(index='test-index', body={\"query\":{\"match\":{\"id\": i}}})\n",
    "end = datetime.datetime.now()\n",
    "print(end-start)"
   ]
  }
 ],
 "metadata": {
  "kernelspec": {
   "display_name": "Python 3 (ipykernel)",
   "language": "python",
   "name": "python3"
  },
  "language_info": {
   "codemirror_mode": {
    "name": "ipython",
    "version": 3
   },
   "file_extension": ".py",
   "mimetype": "text/x-python",
   "name": "python",
   "nbconvert_exporter": "python",
   "pygments_lexer": "ipython3",
   "version": "3.9.13"
  }
 },
 "nbformat": 4,
 "nbformat_minor": 5
}
