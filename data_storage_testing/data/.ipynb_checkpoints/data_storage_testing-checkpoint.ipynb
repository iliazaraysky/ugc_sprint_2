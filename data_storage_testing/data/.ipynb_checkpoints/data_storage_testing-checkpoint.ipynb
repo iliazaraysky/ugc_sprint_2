{
 "cells": [
  {
   "cell_type": "code",
   "execution_count": 1,
   "id": "63ed4c37",
   "metadata": {},
   "outputs": [],
   "source": [
    "import random\n",
    "import pprint\n",
    "import time, datetime\n",
    "from pymongo import MongoClient\n",
    "from pymongo.database import Database"
   ]
  },
  {
   "cell_type": "code",
   "execution_count": 2,
   "id": "a4913fb8",
   "metadata": {},
   "outputs": [],
   "source": [
    "client = MongoClient('mongo-storage-test', 27017)"
   ]
  },
  {
   "cell_type": "code",
   "execution_count": 3,
   "id": "fa3520bc",
   "metadata": {},
   "outputs": [],
   "source": [
    "db = client.test_database"
   ]
  },
  {
   "cell_type": "code",
   "execution_count": 4,
   "id": "396dd0f5",
   "metadata": {},
   "outputs": [],
   "source": [
    "posts = db.posts"
   ]
  },
  {
   "cell_type": "markdown",
   "id": "248632c9",
   "metadata": {},
   "source": [
    "## Вставка данных в mongo"
   ]
  },
  {
   "cell_type": "code",
   "execution_count": 5,
   "id": "87f9c66a",
   "metadata": {},
   "outputs": [
    {
     "name": "stdout",
     "output_type": "stream",
     "text": [
      "0:00:06.041147\n"
     ]
    }
   ],
   "source": [
    "start = datetime.datetime.now()\n",
    "for i in range(15000):\n",
    "    posts.insert_one({\"id\": i, \"author\": \"Mike\", \"text\": \"My first blog post!\", \"tags\": [\"mongodb\", \"python\", \"pymongo\"], \"date\": datetime.datetime.utcnow()})\n",
    "end = datetime.datetime.now()\n",
    "print(end-start)"
   ]
  },
  {
   "cell_type": "code",
   "execution_count": 6,
   "id": "f2ff7f0d",
   "metadata": {},
   "outputs": [
    {
     "name": "stdout",
     "output_type": "stream",
     "text": [
      "0:00:08.211506\n"
     ]
    }
   ],
   "source": [
    "start = datetime.datetime.now()\n",
    "for i in range(1500):\n",
    "    id_num = random.randint(0, 15000)\n",
    "    posts.find_one({\"id\": id_num})\n",
    "end = datetime.datetime.now()\n",
    "print(end-start)"
   ]
  },
  {
   "cell_type": "code",
   "execution_count": 7,
   "id": "345482b3",
   "metadata": {},
   "outputs": [],
   "source": []
  },
  {
   "cell_type": "code",
   "execution_count": null,
   "id": "c5162e75",
   "metadata": {},
   "outputs": [],
   "source": []
  }
 ],
 "metadata": {
  "kernelspec": {
   "display_name": "Python 3 (ipykernel)",
   "language": "python",
   "name": "python3"
  },
  "language_info": {
   "codemirror_mode": {
    "name": "ipython",
    "version": 3
   },
   "file_extension": ".py",
   "mimetype": "text/x-python",
   "name": "python",
   "nbconvert_exporter": "python",
   "pygments_lexer": "ipython3",
   "version": "3.9.13"
  }
 },
 "nbformat": 4,
 "nbformat_minor": 5
}
